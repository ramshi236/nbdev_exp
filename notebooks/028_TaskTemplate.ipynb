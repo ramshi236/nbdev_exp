{
 "cells": [
  {
   "cell_type": "code",
   "execution_count": null,
   "metadata": {},
   "outputs": [],
   "source": [
    "# default_exp TaskTemplate"
   ]
  },
  {
   "cell_type": "code",
   "execution_count": null,
   "metadata": {},
   "outputs": [],
   "source": [
    "# export\n",
    "from pathlib import Path\n",
    "from nbdev_exp.HeteroData_synthesize import SyntheticDataModule, HeteroGNNArch, RamSimpleModel\n",
    "from clearml import Task\n",
    "import pytorch_lightning as pl\n",
    "\n",
    "TASK_NAME = \"HP searching\"\n",
    "MY_PROJECT_NAME = \"MY_PROJECT_NAME\"\n"
   ]
  },
  {
   "cell_type": "code",
   "execution_count": null,
   "metadata": {},
   "outputs": [],
   "source": [
    "#export\n",
    "def my_first_task_template(task_template_name=TASK_NAME,**kwargs):\n",
    "    task = Task.init(project_name=MY_PROJECT_NAME, task_name=task_template_name)\n",
    "\n",
    "    args = {\n",
    "        \"max_epochs\":35,\n",
    "\n",
    "        \"batch_size\": 100,\n",
    "        \"hidden_channels\": 10,\n",
    "        \"num_layers\": 2,\n",
    "    }\n",
    "    args = task.connect(args)\n",
    "\n",
    "    synthetic_data_module = SyntheticDataModule(**args)\n",
    "\n",
    "    model_arch = HeteroGNNArch(**args)\n",
    "\n",
    "    model = RamSimpleModel(model_arch=model_arch)\n",
    "    model.lazy_initialize(synthetic_data_module.get_single_sample())\n",
    "    model.set_static_edge_index(synthetic_data_module.static_edge_index_dict)\n",
    "\n",
    "    logs_root =f\"{str((Path.cwd().parent / 'logs').absolute())}\"\n",
    "    tb_logger = pl.loggers.tensorboard.TensorBoardLogger(save_dir=logs_root, name=task_template_name)\n",
    "    trainer = pl.Trainer(logger=tb_logger,max_epochs=args[\"max_epochs\"])\n",
    "    trainer.fit(model, synthetic_data_module)\n",
    "    task.mark_complete()"
   ]
  },
  {
   "cell_type": "code",
   "execution_count": null,
   "metadata": {},
   "outputs": [],
   "source": [
    "my_first_task_template()"
   ]
  },
  {
   "cell_type": "code",
   "execution_count": null,
   "metadata": {},
   "outputs": [],
   "source": []
  }
 ],
 "metadata": {
  "kernelspec": {
   "display_name": "Python 3",
   "language": "python",
   "name": "python3"
  }
 },
 "nbformat": 4,
 "nbformat_minor": 0
}
