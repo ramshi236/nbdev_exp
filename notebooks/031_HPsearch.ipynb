{
 "cells": [
  {
   "cell_type": "code",
   "execution_count": null,
   "metadata": {},
   "outputs": [],
   "source": [
    "# default_exp HPsearch"
   ]
  },
  {
   "cell_type": "code",
   "execution_count": null,
   "metadata": {},
   "outputs": [],
   "source": [
    "#export\n",
    "from clearml import Task\n",
    "from random import sample\n",
    "\n",
    "TASK_NAME = \"HP searching\"\n",
    "MY_PROJECT_NAME = \"MY_PROJECT_NAME\"\n"
   ]
  },
  {
   "cell_type": "code",
   "execution_count": null,
   "metadata": {},
   "outputs": [
    {
     "name": "stdout",
     "output_type": "stream",
     "text": [
      "ClearML Task: created new task id=88c4a38670a443568623949727d6ff41\n",
      "ClearML results page: https://app.clear.ml/projects/83a324bdf62d44b5acd422513c0fda30/experiments/88c4a38670a443568623949727d6ff41/output/log\n",
      "ClearML Monitor: GPU monitoring failed getting GPU reading, switching off GPU monitoring\n",
      "2022-09-06 21:08:17,412 - clearml.util - WARNING - 2 task found when searching for `{'project_name': 'MY_PROJECT_NAME', 'task_name': 'HP searching', 'include_archived': True}`\n",
      "2022-09-06 21:08:17,414 - clearml.util - WARNING - Selected task `HP searching` (id=88c4a38670a443568623949727d6ff41)\n",
      "Experiment 0 set with parameters {'General/batch_size': '[25, 50, 100]', 'General/hidden_channels': '[3, 5, 10]', 'General/num_layers': '[1, 2, 3]', 'General/total_number_of_experiments': '3', 'General/execution_queue_name': 'default', 'General/experiment_template_name': 'HP searching', 'batch_size': 100, 'hidden_channels': 10, 'num_layers': 3}\n",
      "Experiment id=bdd1f1a60fec4f1d88d07c1c8da58fc9 enqueue for execution\n",
      "Experiment 1 set with parameters {'General/batch_size': '[25, 50, 100]', 'General/hidden_channels': '[3, 5, 10]', 'General/num_layers': '[1, 2, 3]', 'General/total_number_of_experiments': '3', 'General/execution_queue_name': 'default', 'General/experiment_template_name': 'HP searching', 'batch_size': 50, 'hidden_channels': 10, 'num_layers': 3}\n",
      "Experiment id=8a1641f46eda45cbaf391f211aba2e8b enqueue for execution\n",
      "Experiment 2 set with parameters {'General/batch_size': '[25, 50, 100]', 'General/hidden_channels': '[3, 5, 10]', 'General/num_layers': '[1, 2, 3]', 'General/total_number_of_experiments': '3', 'General/execution_queue_name': 'default', 'General/experiment_template_name': 'HP searching', 'batch_size': 100, 'hidden_channels': 3, 'num_layers': 2}\n",
      "Experiment id=88a7fd63003f45f3af9fecc4efbb88c1 enqueue for execution\n"
     ]
    }
   ],
   "source": [
    "\n",
    "# current_task_name = f\"{TASK_NAME} - {datetime.now().strftime('%d-%m-%Y-%H-%M')}\"\n",
    "\n",
    "task = Task.init(project_name=MY_PROJECT_NAME, task_name=TASK_NAME, task_type=Task.TaskTypes.optimizer)\n",
    "\n",
    "hp_options = dict()\n",
    "hp_options = task.connect(hp_options)\n",
    "\n",
    "hp_options.update({\n",
    "    \"batch_size\": [25, 50, 100],\n",
    "    \"hidden_channels\": [3, 5, 10],\n",
    "    \"num_layers\": [1, 2, 3],\n",
    "})\n",
    "\n",
    "# noinspection PyDictCreation\n",
    "hp_space = {\n",
    "    'batch_size': lambda: sample(hp_options['batch_size'], 1)[0],\n",
    "    'hidden_channels': lambda: sample(hp_options['hidden_channels'], 1)[0],\n",
    "    'num_layers': lambda: sample(hp_options['num_layers'], 1)[0],\n",
    "    # 'hidden_channels': lambda: sample(range(*hp_options['hidden_channels']), 1)[0],\n",
    "    # 'num_layers': lambda: sample(range(*hp_options['num_layers']), 1)[0],\n",
    "}\n",
    "# number of random samples to test from 'space'\n",
    "hp_options['total_number_of_experiments'] = 3\n",
    "\n",
    "# execution queue to add experiments to\n",
    "hp_options['execution_queue_name'] = 'default'\n",
    "\n",
    "# experiment template to optimize with random parameter search\n",
    "hp_options['experiment_template_name'] = TASK_NAME # TODO: try TASK_NAME/* instead\n",
    "\n",
    "# Select base template task\n",
    "# Notice we can be more imaginative and use task_id which will eliminate the need to use project name\n",
    "template_task = Task.get_task(project_name=MY_PROJECT_NAME, task_name=hp_options['experiment_template_name'])\n",
    "for i in range(hp_options['total_number_of_experiments']):\n",
    "    # clone the template task into a new write enabled task (where we can change parameters)\n",
    "    current_simulation_name =template_task.name+' {}'.format(i)\n",
    "    cloned_task = Task.clone(source_task=template_task, name=current_simulation_name, parent=template_task.id)\n",
    "\n",
    "    # get the original template parameters\n",
    "    cloned_task_parameters = cloned_task.get_parameters()\n",
    "\n",
    "    # override with random samples form grid\n",
    "    for k in hp_space.keys():\n",
    "        cloned_task_parameters[k] = hp_space[k]()\n",
    "\n",
    "    # put back into the new cloned task\n",
    "    cloned_task.set_parameters(cloned_task_parameters)\n",
    "    print('Experiment {} set with parameters {}'.format(i, cloned_task_parameters))\n",
    "\n",
    "    # enqueue the task for execution\n",
    "    Task.enqueue(cloned_task.id, queue_name=hp_options['execution_queue_name'])\n",
    "    print('Experiment id={} enqueue for execution'.format(cloned_task.id))\n",
    "    # run_simulation(simulation_name=current_simulation_name,**cloned_task_parameters)"
   ]
  }
 ],
 "metadata": {
  "kernelspec": {
   "display_name": "Python 3",
   "language": "python",
   "name": "python3"
  }
 },
 "nbformat": 4,
 "nbformat_minor": 0
}
