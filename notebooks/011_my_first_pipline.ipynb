{
 "cells": [
  {
   "cell_type": "code",
   "execution_count": null,
   "outputs": [],
   "source": [
    "# export\n",
    "import torch\n",
    "import torch_geometric\n",
    "from torch_geometric.data import HeteroData\n",
    "from torch_geometric.datasets import OGB_MAG\n",
    "from torch_geometric.utils import add_self_loops, degree\n",
    "from torch_geometric.nn import SAGEConv, to_hetero\n",
    "import hiddenlayer as hl\n",
    "from torchsummary import summary\n",
    "\n"
   ],
   "metadata": {
    "collapsed": false,
    "pycharm": {
     "name": "#%%\n"
    }
   }
  },
  {
   "cell_type": "code",
   "execution_count": null,
   "outputs": [],
   "source": [
    "#export\n",
    "transform = torch_geometric.transforms.ToUndirected()  # Add reverse edge types.\n",
    "dataset = OGB_MAG(root='./data', preprocess='metapath2vec', transform=transform)\n",
    "data = dataset[0]\n",
    "\n",
    "train_loader = torch_geometric.loader.NeighborLoader(\n",
    "    data,\n",
    "    # Sample 15 neighbors for each node and each edge type for 2 iterations:\n",
    "    num_neighbors=[15] * 1,\n",
    "    # Use a batch size of 128 for sampling training nodes of type \"paper\":\n",
    "    batch_size=1,\n",
    "    input_nodes=('paper', data['paper'].train_mask),\n",
    ")\n",
    "batch = next(iter(train_loader))"
   ],
   "metadata": {
    "collapsed": false,
    "pycharm": {
     "name": "#%%\n"
    }
   }
  },
  {
   "cell_type": "code",
   "execution_count": null,
   "outputs": [],
   "source": [
    "for key, val in batch.x_dict.items():\n",
    "    print(f\"type input name:{key}, shape of tensor : {list(val.size())}\")\n",
    "for key, val in batch.edge_index_dict.items():\n",
    "    print(f\"type input name:{key}, shape of tensor : {list(val.size())}\")"
   ],
   "metadata": {
    "collapsed": false,
    "pycharm": {
     "name": "#%%\n"
    }
   }
  },
  {
   "cell_type": "code",
   "execution_count": null,
   "outputs": [],
   "source": [
    "#export\n",
    "class GNN(torch.nn.Module):\n",
    "    def __init__(self, hidden_channels, out_channels,\n",
    "                 ):\n",
    "        super().__init__()\n",
    "        self.conv1 = SAGEConv((-1, -1), hidden_channels)  #.jittable()\n",
    "        self.conv2 = SAGEConv((-1, -1), out_channels)  #.jittable()\n",
    "\n",
    "    def forward(self, x, edge_index):\n",
    "        x = self.conv1(x, edge_index).relu()\n",
    "        x = self.conv2(x, edge_index)\n",
    "        return x\n",
    "\n",
    "\n",
    "model = GNN(hidden_channels=64, out_channels=dataset.num_classes)\n",
    "model = to_hetero(model, batch.metadata(), aggr='sum')\n",
    "with torch.no_grad():  # Initialize lazy modules.\n",
    "    out = model(batch.x_dict, batch.edge_index_dict)\n",
    "a = 1"
   ],
   "metadata": {
    "collapsed": false,
    "pycharm": {
     "name": "#%%\n"
    }
   }
  },
  {
   "cell_type": "code",
   "execution_count": null,
   "outputs": [],
   "source": [
    "#export\n",
    "def save_model_simple(py_model: torch.nn.Module):\n",
    "    torch.save(py_model.state_dict(), \"shmira_sd.h5\")\n",
    "    torch.save(py_model.state_dict(), \"shmira_sd.pt\")\n",
    "    torch.save(py_model, \"shmira.h5\")\n",
    "    torch.save(py_model, \"shmira.pt\")\n",
    "\n",
    "\n",
    "a = 1"
   ],
   "metadata": {
    "collapsed": false,
    "pycharm": {
     "name": "#%%\n"
    }
   }
  },
  {
   "cell_type": "code",
   "execution_count": null,
   "outputs": [],
   "source": [
    "# model_ts = torch.jit.script(model)\n",
    "# with torch.no_grad():  # Initialize lazy modules.\n",
    "#     out = model_ts(batch.x_dict, batch.edge_index_dict)\n",
    "# torch.save(model_ts.state_dict(),\"shmira_ts_sd.h5\")\n",
    "# torch.save(model_ts.state_dict(),\"shmira_ts_sd.pt\")\n",
    "# torch.save(model_ts,\"shmira_ts.h5\")\n",
    "# torch.save(model_ts,\"shmira_ts.pt\")"
   ],
   "metadata": {
    "collapsed": false,
    "pycharm": {
     "name": "#%%\n"
    }
   }
  },
  {
   "cell_type": "code",
   "execution_count": 1,
   "outputs": [
    {
     "ename": "OSError",
     "evalue": "[Errno 30] Read-only file system: '/settings.ini'",
     "output_type": "error",
     "traceback": [
      "\u001B[0;31m---------------------------------------------------------------------------\u001B[0m",
      "\u001B[0;31mOSError\u001B[0m                                   Traceback (most recent call last)",
      "Input \u001B[0;32mIn [1]\u001B[0m, in \u001B[0;36m<cell line: 3>\u001B[0;34m()\u001B[0m\n\u001B[1;32m      1\u001B[0m \u001B[38;5;28;01mfrom\u001B[39;00m \u001B[38;5;21;01mnbdev\u001B[39;00m\u001B[38;5;21;01m.\u001B[39;00m\u001B[38;5;21;01mexport\u001B[39;00m \u001B[38;5;28;01mimport\u001B[39;00m notebook2script\n\u001B[0;32m----> 3\u001B[0m \u001B[43mnotebook2script\u001B[49m\u001B[43m(\u001B[49m\u001B[43m)\u001B[49m\n",
      "File \u001B[0;32m~/opt/anaconda3/envs/ram_dev/lib/python3.9/site-packages/nbdev/export.py:439\u001B[0m, in \u001B[0;36mnotebook2script\u001B[0;34m(fname, silent, to_dict, bare)\u001B[0m\n\u001B[1;32m    437\u001B[0m \u001B[38;5;28;01mif\u001B[39;00m os\u001B[38;5;241m.\u001B[39menviron\u001B[38;5;241m.\u001B[39mget(\u001B[38;5;124m'\u001B[39m\u001B[38;5;124mIN_TEST\u001B[39m\u001B[38;5;124m'\u001B[39m,\u001B[38;5;241m0\u001B[39m): \u001B[38;5;28;01mreturn\u001B[39;00m  \u001B[38;5;66;03m# don't export if running tests\u001B[39;00m\n\u001B[1;32m    438\u001B[0m \u001B[38;5;28;01mif\u001B[39;00m fname \u001B[38;5;129;01mis\u001B[39;00m \u001B[38;5;28;01mNone\u001B[39;00m:\n\u001B[0;32m--> 439\u001B[0m     \u001B[43mreset_nbdev_module\u001B[49m\u001B[43m(\u001B[49m\u001B[43m)\u001B[49m\n\u001B[1;32m    440\u001B[0m     update_version()\n\u001B[1;32m    441\u001B[0m     update_baseurl()\n",
      "File \u001B[0;32m~/opt/anaconda3/envs/ram_dev/lib/python3.9/site-packages/nbdev/export.py:247\u001B[0m, in \u001B[0;36mreset_nbdev_module\u001B[0;34m()\u001B[0m\n\u001B[1;32m    245\u001B[0m \u001B[38;5;28;01mdef\u001B[39;00m \u001B[38;5;21mreset_nbdev_module\u001B[39m():\n\u001B[1;32m    246\u001B[0m     \u001B[38;5;124m\"\u001B[39m\u001B[38;5;124mCreate a skeleton for <code>_nbdev</code>\u001B[39m\u001B[38;5;124m\"\u001B[39m\n\u001B[0;32m--> 247\u001B[0m     fname \u001B[38;5;241m=\u001B[39m \u001B[43mget_config\u001B[49m\u001B[43m(\u001B[49m\u001B[43m)\u001B[49m\u001B[38;5;241m.\u001B[39mpath(\u001B[38;5;124m\"\u001B[39m\u001B[38;5;124mlib_path\u001B[39m\u001B[38;5;124m\"\u001B[39m)\u001B[38;5;241m/\u001B[39m\u001B[38;5;124m'\u001B[39m\u001B[38;5;124m_nbdev.py\u001B[39m\u001B[38;5;124m'\u001B[39m\n\u001B[1;32m    248\u001B[0m     fname\u001B[38;5;241m.\u001B[39mparent\u001B[38;5;241m.\u001B[39mmkdir(parents\u001B[38;5;241m=\u001B[39m\u001B[38;5;28;01mTrue\u001B[39;00m, exist_ok\u001B[38;5;241m=\u001B[39m\u001B[38;5;28;01mTrue\u001B[39;00m)\n\u001B[1;32m    249\u001B[0m     sep \u001B[38;5;241m=\u001B[39m \u001B[38;5;124m'\u001B[39m\u001B[38;5;130;01m\\n\u001B[39;00m\u001B[38;5;124m'\u001B[39m \u001B[38;5;241m*\u001B[39m (get_config()\u001B[38;5;241m.\u001B[39md\u001B[38;5;241m.\u001B[39mgetint(\u001B[38;5;124m'\u001B[39m\u001B[38;5;124mcell_spacing\u001B[39m\u001B[38;5;124m'\u001B[39m, \u001B[38;5;241m1\u001B[39m) \u001B[38;5;241m+\u001B[39m \u001B[38;5;241m1\u001B[39m)\n",
      "File \u001B[0;32m~/opt/anaconda3/envs/ram_dev/lib/python3.9/site-packages/nbdev/imports.py:30\u001B[0m, in \u001B[0;36mget_config\u001B[0;34m(cfg_name)\u001B[0m\n\u001B[1;32m     28\u001B[0m \u001B[38;5;28;01mwhile\u001B[39;00m cfg_path \u001B[38;5;241m!=\u001B[39m cfg_path\u001B[38;5;241m.\u001B[39mparent \u001B[38;5;129;01mand\u001B[39;00m \u001B[38;5;129;01mnot\u001B[39;00m (cfg_path\u001B[38;5;241m/\u001B[39mcfg_name)\u001B[38;5;241m.\u001B[39mexists(): cfg_path \u001B[38;5;241m=\u001B[39m cfg_path\u001B[38;5;241m.\u001B[39mparent\n\u001B[1;32m     29\u001B[0m config \u001B[38;5;241m=\u001B[39m Config(cfg_path, cfg_name\u001B[38;5;241m=\u001B[39mcfg_name)\n\u001B[0;32m---> 30\u001B[0m \u001B[43m_add_new_defaults\u001B[49m\u001B[43m(\u001B[49m\u001B[43mconfig\u001B[49m\u001B[38;5;241;43m.\u001B[39;49m\u001B[43md\u001B[49m\u001B[43m,\u001B[49m\u001B[43m \u001B[49m\u001B[43mconfig\u001B[49m\u001B[38;5;241;43m.\u001B[39;49m\u001B[43mconfig_file\u001B[49m\u001B[43m,\u001B[49m\n\u001B[1;32m     31\u001B[0m \u001B[43m        \u001B[49m\u001B[43mhost\u001B[49m\u001B[38;5;241;43m=\u001B[39;49m\u001B[38;5;124;43m\"\u001B[39;49m\u001B[38;5;124;43mgithub\u001B[39;49m\u001B[38;5;124;43m\"\u001B[39;49m\u001B[43m,\u001B[49m\u001B[43m \u001B[49m\u001B[43mdoc_host\u001B[49m\u001B[38;5;241;43m=\u001B[39;49m\u001B[38;5;124;43m\"\u001B[39;49m\u001B[38;5;124;43mhttps://\u001B[39;49m\u001B[38;5;132;43;01m%(user)s\u001B[39;49;00m\u001B[38;5;124;43m.github.io\u001B[39;49m\u001B[38;5;124;43m\"\u001B[39;49m\u001B[43m,\u001B[49m\u001B[43m \u001B[49m\u001B[43mdoc_baseurl\u001B[49m\u001B[38;5;241;43m=\u001B[39;49m\u001B[38;5;124;43m\"\u001B[39;49m\u001B[38;5;124;43m/\u001B[39;49m\u001B[38;5;132;43;01m%(lib_name)s\u001B[39;49;00m\u001B[38;5;124;43m/\u001B[39;49m\u001B[38;5;124;43m\"\u001B[39;49m\u001B[43m)\u001B[49m\n\u001B[1;32m     32\u001B[0m \u001B[38;5;28;01mreturn\u001B[39;00m config\n",
      "File \u001B[0;32m~/opt/anaconda3/envs/ram_dev/lib/python3.9/site-packages/nbdev/imports.py:23\u001B[0m, in \u001B[0;36m_add_new_defaults\u001B[0;34m(cfg, file, **kwargs)\u001B[0m\n\u001B[1;32m     21\u001B[0m \u001B[38;5;28;01mif\u001B[39;00m cfg\u001B[38;5;241m.\u001B[39mget(k, \u001B[38;5;28;01mNone\u001B[39;00m) \u001B[38;5;129;01mis\u001B[39;00m \u001B[38;5;28;01mNone\u001B[39;00m:\n\u001B[1;32m     22\u001B[0m     cfg[k] \u001B[38;5;241m=\u001B[39m v\n\u001B[0;32m---> 23\u001B[0m     \u001B[43msave_config_file\u001B[49m\u001B[43m(\u001B[49m\u001B[43mfile\u001B[49m\u001B[43m,\u001B[49m\u001B[43m \u001B[49m\u001B[43mcfg\u001B[49m\u001B[43m)\u001B[49m\n",
      "File \u001B[0;32m~/opt/anaconda3/envs/ram_dev/lib/python3.9/site-packages/fastcore/foundation.py:241\u001B[0m, in \u001B[0;36msave_config_file\u001B[0;34m(file, d, **kwargs)\u001B[0m\n\u001B[1;32m    239\u001B[0m config \u001B[38;5;241m=\u001B[39m ConfigParser(\u001B[38;5;241m*\u001B[39m\u001B[38;5;241m*\u001B[39mkwargs)\n\u001B[1;32m    240\u001B[0m config[\u001B[38;5;124m'\u001B[39m\u001B[38;5;124mDEFAULT\u001B[39m\u001B[38;5;124m'\u001B[39m] \u001B[38;5;241m=\u001B[39m d\n\u001B[0;32m--> 241\u001B[0m config\u001B[38;5;241m.\u001B[39mwrite(\u001B[38;5;28;43mopen\u001B[39;49m\u001B[43m(\u001B[49m\u001B[43mfile\u001B[49m\u001B[43m,\u001B[49m\u001B[43m \u001B[49m\u001B[38;5;124;43m'\u001B[39;49m\u001B[38;5;124;43mw\u001B[39;49m\u001B[38;5;124;43m'\u001B[39;49m\u001B[43m)\u001B[49m)\n",
      "\u001B[0;31mOSError\u001B[0m: [Errno 30] Read-only file system: '/settings.ini'"
     ]
    }
   ],
   "source": [
    "from nbdev.export import notebook2script\n",
    "\n",
    "notebook2script()"
   ],
   "metadata": {
    "collapsed": false,
    "pycharm": {
     "name": "#%%\n"
    }
   }
  },
  {
   "cell_type": "code",
   "execution_count": null,
   "outputs": [],
   "source": [],
   "metadata": {
    "collapsed": false,
    "pycharm": {
     "name": "#%%\n"
    }
   }
  }
 ],
 "metadata": {
  "kernelspec": {
   "display_name": "Python 3",
   "language": "python",
   "name": "python3"
  },
  "language_info": {
   "codemirror_mode": {
    "name": "ipython",
    "version": 2
   },
   "file_extension": ".py",
   "mimetype": "text/x-python",
   "name": "python",
   "nbconvert_exporter": "python",
   "pygments_lexer": "ipython2",
   "version": "2.7.6"
  }
 },
 "nbformat": 4,
 "nbformat_minor": 0
}