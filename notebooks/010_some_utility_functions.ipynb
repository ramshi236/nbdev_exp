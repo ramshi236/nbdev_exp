{
 "cells": [
  {
   "cell_type": "code",
   "execution_count": null,
   "metadata": {},
   "outputs": [],
   "source": [
    "# default_exp some_utility_functions\n"
   ]
  },
  {
   "cell_type": "code",
   "execution_count": null,
   "metadata": {},
   "outputs": [],
   "source": [
    "#export\n",
    "import torch\n"
   ]
  },
  {
   "cell_type": "code",
   "execution_count": null,
   "metadata": {},
   "outputs": [],
   "source": [
    "\n",
    "#export\n",
    "def save_model_simple(py_model: torch.nn.Module):\n",
    "    torch.save(py_model.state_dict(), \"shmira_sd.h5\")\n",
    "    torch.save(py_model.state_dict(), \"shmira_sd.pt\")\n",
    "    torch.save(py_model, \"shmira.h5\")\n",
    "    torch.save(py_model, \"shmira.pt\")\n"
   ]
  }
 ],
 "metadata": {
  "kernelspec": {
   "display_name": "Python 3",
   "language": "python",
   "name": "python3"
  }
 },
 "nbformat": 4,
 "nbformat_minor": 0
}
